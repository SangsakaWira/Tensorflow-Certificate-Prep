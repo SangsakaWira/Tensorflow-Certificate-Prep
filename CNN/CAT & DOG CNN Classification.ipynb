{
 "cells": [
  {
   "cell_type": "code",
   "execution_count": 1,
   "metadata": {},
   "outputs": [],
   "source": [
    "# Convolutional Neural Network\n",
    "import tensorflow as tf\n",
    "import os\n",
    "import shutil\n",
    "\n",
    "from tensorflow.keras import layers\n",
    "from tensorflow import keras "
   ]
  },
  {
   "cell_type": "code",
   "execution_count": 2,
   "metadata": {},
   "outputs": [],
   "source": [
    "root_path = \"Datasets/archive/train/train/\""
   ]
  },
  {
   "cell_type": "code",
   "execution_count": 3,
   "metadata": {},
   "outputs": [],
   "source": [
    "# Define a Callback class that stops training once accuracy reaches 97.0%\n",
    "class myCallback(tf.keras.callbacks.Callback):\n",
    "    def on_epoch_end(self, epoch, logs={}):\n",
    "        if(logs.get('accuracy') > 0.97):\n",
    "            print(\"\\nReached 97.0% accuracy so cancelling training!\")\n",
    "            self.model.stop_training = True"
   ]
  },
  {
   "cell_type": "code",
   "execution_count": 4,
   "metadata": {},
   "outputs": [
    {
     "name": "stdout",
     "output_type": "stream",
     "text": [
      "Found 25000 images belonging to 2 classes.\n",
      "Found 17500 images belonging to 2 classes.\n",
      "Found 7500 images belonging to 2 classes.\n"
     ]
    }
   ],
   "source": [
    "BATCH_SIZE= 50\n",
    "WIDTH_SIZE = 200\n",
    "HEIGHT_SIZE = 200\n",
    "\n",
    "from tensorflow.keras.preprocessing.image import ImageDataGenerator\n",
    "\n",
    "train_datagen = ImageDataGenerator(rescale = 1./255,\n",
    "                                   shear_range = 0.2,\n",
    "                                   zoom_range = 0.2,\n",
    "                                   validation_split=0.3,\n",
    "                                   horizontal_flip = True)\n",
    "\n",
    "training_set = train_datagen.flow_from_directory(\"Datasets/archive/train/train/\",\n",
    "                                                 target_size = (WIDTH_SIZE, HEIGHT_SIZE),\n",
    "                                                 batch_size = BATCH_SIZE,\n",
    "                                                 shuffle=True,\n",
    "                                                 seed=None,\n",
    "                                                 class_mode = 'binary')\n",
    "\n",
    "# TRAINING GENERATOR\n",
    "train_generator = train_datagen.flow_from_directory(\n",
    "    \"Datasets/archive/train/train/\",\n",
    "    target_size=(WIDTH_SIZE, HEIGHT_SIZE),\n",
    "    batch_size=BATCH_SIZE,\n",
    "    class_mode='binary',\n",
    "    subset='training') # set as training data\n",
    "\n",
    "\n",
    "# TESTING GENERATOR\n",
    "validation_generator = train_datagen.flow_from_directory(\n",
    "    \"Datasets/archive/train/train/\", # same directory as training data\n",
    "    target_size=(WIDTH_SIZE, HEIGHT_SIZE),\n",
    "    batch_size=BATCH_SIZE,\n",
    "    class_mode='binary',\n",
    "    subset='validation') # set as validation data"
   ]
  },
  {
   "cell_type": "code",
   "execution_count": 5,
   "metadata": {},
   "outputs": [],
   "source": [
    "# Define the model\n",
    "callbacks = myCallback()\n",
    "# WIRA\n",
    "# Use no more than 2 Conv2D and 2 MaxPooling2D\n",
    "model = tf.keras.models.Sequential([\n",
    "    # Your Code Here\n",
    "    # This is the first convolution\n",
    "    tf.keras.layers.Conv2D(64,(3,3), activation='relu', input_shape=(WIDTH_SIZE, HEIGHT_SIZE,3)),\n",
    "    tf.keras.layers.MaxPooling2D(2, 2),\n",
    "    tf.keras.layers.Conv2D(32,(3,3), activation='relu'),\n",
    "    tf.keras.layers.MaxPooling2D(2,2),\n",
    "    tf.keras.layers.Conv2D(32,(3,3), activation='relu'),\n",
    "    tf.keras.layers.MaxPooling2D(2,2),\n",
    "    tf.keras.layers.Flatten(),\n",
    "    tf.keras.layers.Dropout(0.2),\n",
    "    tf.keras.layers.Dense(128, activation='relu'),\n",
    "    tf.keras.layers.Dense(64, activation='relu'),\n",
    "    tf.keras.layers.Dense(32, activation='relu'),\n",
    "    tf.keras.layers.Dense(1, activation='sigmoid')]\n",
    "    )\n",
    "\n",
    "# Compile Model. \n",
    "model.compile(loss = 'binary_crossentropy', optimizer=\"adam\", metrics=['accuracy'])"
   ]
  },
  {
   "cell_type": "code",
   "execution_count": 6,
   "metadata": {},
   "outputs": [
    {
     "name": "stdout",
     "output_type": "stream",
     "text": [
      "WARNING:tensorflow:sample_weight modes were coerced from\n",
      "  ...\n",
      "    to  \n",
      "  ['...']\n",
      "WARNING:tensorflow:sample_weight modes were coerced from\n",
      "  ...\n",
      "    to  \n",
      "  ['...']\n",
      "Train for 350 steps, validate for 3 steps\n",
      "Epoch 1/5\n",
      "350/350 [==============================] - 186s 532ms/step - loss: 0.6794 - accuracy: 0.5702 - val_loss: 0.6336 - val_accuracy: 0.6533\n",
      "Epoch 2/5\n",
      "350/350 [==============================] - 184s 525ms/step - loss: 0.5983 - accuracy: 0.6865 - val_loss: 0.5870 - val_accuracy: 0.7200\n",
      "Epoch 3/5\n",
      "350/350 [==============================] - 191s 547ms/step - loss: 0.5474 - accuracy: 0.7218 - val_loss: 0.5467 - val_accuracy: 0.6800\n",
      "Epoch 4/5\n",
      "350/350 [==============================] - 184s 526ms/step - loss: 0.4987 - accuracy: 0.7559 - val_loss: 0.5161 - val_accuracy: 0.7267\n",
      "Epoch 5/5\n",
      "350/350 [==============================] - 187s 535ms/step - loss: 0.4611 - accuracy: 0.7837 - val_loss: 0.4282 - val_accuracy: 0.7800\n"
     ]
    }
   ],
   "source": [
    "history = model.fit(\n",
    "            train_generator,\n",
    "            validation_data = validation_generator,\n",
    "            epochs = 5,\n",
    "            validation_steps = 3) "
   ]
  },
  {
   "cell_type": "code",
   "execution_count": null,
   "metadata": {},
   "outputs": [],
   "source": []
  }
 ],
 "metadata": {
  "kernelspec": {
   "display_name": "Python 3",
   "language": "python",
   "name": "python3"
  },
  "language_info": {
   "codemirror_mode": {
    "name": "ipython",
    "version": 3
   },
   "file_extension": ".py",
   "mimetype": "text/x-python",
   "name": "python",
   "nbconvert_exporter": "python",
   "pygments_lexer": "ipython3",
   "version": "3.7.9"
  }
 },
 "nbformat": 4,
 "nbformat_minor": 4
}
